{
 "cells": [
  {
   "cell_type": "code",
   "execution_count": 2,
   "metadata": {},
   "outputs": [],
   "source": [
    "class a:\n",
    "\n",
    "    def test(self):\n",
    "        print('this is method is a part of class a')\n",
    "\n",
    "    def test1(self):\n",
    "        print(\"this is test1 from class a\")"
   ]
  },
  {
   "cell_type": "code",
   "execution_count": 3,
   "metadata": {},
   "outputs": [
    {
     "name": "stdout",
     "output_type": "stream",
     "text": [
      "this is method is a part of class a\n"
     ]
    }
   ],
   "source": [
    "obj_a = a()\n",
    "obj_a.test()"
   ]
  },
  {
   "cell_type": "code",
   "execution_count": 4,
   "metadata": {},
   "outputs": [],
   "source": [
    "class b(a):\n",
    "\n",
    "    def test1b(self):\n",
    "        print(\"this is a part of class b\")"
   ]
  },
  {
   "cell_type": "code",
   "execution_count": 6,
   "metadata": {},
   "outputs": [
    {
     "name": "stdout",
     "output_type": "stream",
     "text": [
      "this is test1 from class a\n",
      "this is a part of class b\n"
     ]
    }
   ],
   "source": [
    "obj_b = b()\n",
    "obj_b.test1()\n",
    "obj_b.test1b()"
   ]
  },
  {
   "cell_type": "markdown",
   "metadata": {},
   "source": [
    "Problem 1: Bank Account Create a class representing a bank account with attributes like account number, account holder name, and balance. Implement methods to deposit and withdraw money from the account."
   ]
  },
  {
   "cell_type": "code",
   "execution_count": 15,
   "metadata": {},
   "outputs": [
    {
     "name": "stdout",
     "output_type": "stream",
     "text": [
      "Before deposite 1000 after deposite 2000\n",
      "Withdraw 500 after withdraw 1500\n",
      "Acount_number : 123456\n",
      "Holder Name : aswini\n",
      "Total Balance : 1500\n"
     ]
    }
   ],
   "source": [
    "class Bank_Account:\n",
    "\n",
    "    def __init__(self,account_number,holder_name,balance):\n",
    "        self.account_number = account_number\n",
    "        self.holder_name = holder_name\n",
    "        self.balance = balance\n",
    "\n",
    "    def deposite(self,amount):\n",
    "\n",
    "        if amount>0:\n",
    "            self.balance+=amount\n",
    "            print(f\"Before deposite {amount} after deposite {self.balance}\")\n",
    "\n",
    "        else:\n",
    "            print(\"Invalid amount please enter again\")\n",
    "\n",
    "    def withdraw(self,amount):\n",
    "        if amount>0 or amount in self.balance:\n",
    "            self.balance-=amount\n",
    "            print(f\"Withdraw {amount} after withdraw {self.balance}\")\n",
    "\n",
    "        else:\n",
    "            print(\"Invalid , Please try again\")\n",
    "\n",
    "    def display(self):\n",
    "        print(f\"Acount_number : {self.account_number}\")\n",
    "        print(f\"Holder Name : {self.holder_name}\")\n",
    "        print(f\"Total Balance : {self.balance}\")\n",
    "\n",
    "\n",
    "account1 = Bank_Account(\"123456\",\"aswini\",1000)\n",
    "\n",
    "account1.deposite(1000)\n",
    "\n",
    "account1.withdraw(500)\n",
    "\n",
    "account1.display()\n",
    "\n"
   ]
  },
  {
   "cell_type": "markdown",
   "metadata": {},
   "source": [
    "Problem 2: Employee Management Create a class representing an employee with attributes like employee ID, name, and salary. Implement methods to calculate the yearly bonus and display employee details."
   ]
  },
  {
   "cell_type": "code",
   "execution_count": 17,
   "metadata": {},
   "outputs": [
    {
     "name": "stdout",
     "output_type": "stream",
     "text": [
      "Total Salary of the amount 130.0\n",
      "Employee Id 1\n",
      "Name aswini\n",
      "Salary 130.0\n"
     ]
    }
   ],
   "source": [
    "class employee:\n",
    "\n",
    "    def __init__(self,employee_id,emp_name,salary):\n",
    "        self.employee_id = employee_id\n",
    "        self.emp_name = emp_name\n",
    "        self.salary = salary\n",
    "\n",
    "    def bonous(self,amount):\n",
    "\n",
    "        if amount>0:\n",
    "            self.salary = amount +self.salary*0.8\n",
    "            print(f\"Total Salary of the amount {self.salary}\")\n",
    "\n",
    "        else:\n",
    "            print(\"Invalid , Please try again\")\n",
    "\n",
    "\n",
    "    def display(self):\n",
    "        print(f\"Employee Id {self.employee_id}\")\n",
    "        print(f\"Name {self.emp_name}\")\n",
    "        print(f\"Salary {self.salary}\")\n",
    "\n",
    "\n",
    "\n",
    "emp = employee(1,\"aswini\",100)\n",
    "\n",
    "emp.bonous(50)\n",
    "\n",
    "emp.display()"
   ]
  },
  {
   "cell_type": "markdown",
   "metadata": {},
   "source": [
    "Problem 3: Vehicle Rental Create a class representing a vehicle rental system. Implement methods to rent a vehicle, return a vehicle, and display available vehicles."
   ]
  },
  {
   "cell_type": "code",
   "execution_count": 13,
   "metadata": {},
   "outputs": [
    {
     "name": "stdout",
     "output_type": "stream",
     "text": [
      "Available Vehicles:\n",
      "- Sedan\n",
      "- SUV\n",
      "- Motorcycle\n",
      "John rented a Sedan.\n",
      "Available Vehicles:\n",
      "- SUV\n",
      "- Motorcycle\n",
      "Sedan returned.\n",
      "Available Vehicles:\n",
      "- SUV\n",
      "- Motorcycle\n",
      "- Sedan\n"
     ]
    }
   ],
   "source": [
    "class VehicleRentalSystem:\n",
    "    def __init__(self):\n",
    "        # Assuming a simple representation of vehicles with a list\n",
    "        self.available_vehicles = []\n",
    "\n",
    "    def add_vehicle(self, vehicle):\n",
    "        self.available_vehicles.append(vehicle)\n",
    "\n",
    "    def rent_vehicle(self, customer, vehicle_type):\n",
    "        for vehicle in self.available_vehicles:\n",
    "            if vehicle.vehicle_type == vehicle_type:\n",
    "                self.available_vehicles.remove(vehicle)\n",
    "                print(f\"{customer} rented a {vehicle_type}.\")\n",
    "                return\n",
    "        print(f\"Sorry, no available {vehicle_type} for {customer} to rent.\")\n",
    "\n",
    "    def return_vehicle(self, vehicle):\n",
    "        self.available_vehicles.append(vehicle)\n",
    "        print(f\"{vehicle.vehicle_type} returned.\")\n",
    "\n",
    "    def display_available_vehicles(self):\n",
    "        if self.available_vehicles:\n",
    "            print(\"Available Vehicles:\")\n",
    "            for vehicle in self.available_vehicles:\n",
    "                print(f\"- {vehicle.vehicle_type}\")\n",
    "        else:\n",
    "            print(\"No vehicles available.\")\n",
    "\n",
    "\n",
    "class Vehicle:\n",
    "    def __init__(self, vehicle_type):\n",
    "        self.vehicle_type = vehicle_type\n",
    "\n",
    "rental_system = VehicleRentalSystem()\n",
    "\n",
    "vehicle1 = Vehicle(vehicle_type=\"Sedan\")\n",
    "vehicle2 = Vehicle(vehicle_type=\"SUV\")\n",
    "vehicle3 = Vehicle(vehicle_type=\"Motorcycle\")\n",
    "\n",
    "rental_system.add_vehicle(vehicle1)\n",
    "rental_system.add_vehicle(vehicle2)\n",
    "rental_system.add_vehicle(vehicle3)\n",
    "\n",
    "\n",
    "rental_system.display_available_vehicles()\n",
    "\n",
    "rental_system.rent_vehicle(customer=\"John\", vehicle_type=\"Sedan\")\n",
    "\n",
    "rental_system.display_available_vehicles()\n",
    "\n",
    "# Returning a vehicle\n",
    "rental_system.return_vehicle(vehicle1)\n",
    "\n",
    "# Displaying available vehicles after returning\n",
    "rental_system.display_available_vehicles()\n"
   ]
  },
  {
   "cell_type": "markdown",
   "metadata": {},
   "source": [
    "Problem 4: Library Catalog Create classes representing a library and a book. Implement methods to add books to the library, borrow books, and display available books."
   ]
  },
  {
   "cell_type": "code",
   "execution_count": 26,
   "metadata": {},
   "outputs": [
    {
     "name": "stdout",
     "output_type": "stream",
     "text": [
      "Book add in the library : The Great Gatsby by F. Scott Fitzgerald (ISBN: 978-0743273565)\n",
      "Book add in the library : To Kill a Mockingbird by Harper Lee (ISBN: 978-0061120084)\n",
      "Book add in the library : 1984 by George Orwell (ISBN: 978-0451524935)\n",
      "Available Books:\n",
      "The Great Gatsby by F. Scott Fitzgerald (ISBN: 978-0743273565)\n",
      "To Kill a Mockingbird by Harper Lee (ISBN: 978-0061120084)\n",
      "1984 by George Orwell (ISBN: 978-0451524935)\n",
      "Book is The Great Gatsby by F. Scott Fitzgerald (ISBN: 978-0743273565)\n",
      "Available Books:\n",
      "The Great Gatsby by F. Scott Fitzgerald (ISBN: 978-0743273565)\n",
      "To Kill a Mockingbird by Harper Lee (ISBN: 978-0061120084)\n",
      "1984 by George Orwell (ISBN: 978-0451524935)\n",
      "Book is The Great Gatsby by F. Scott Fitzgerald (ISBN: 978-0743273565)\n",
      "Available Books:\n",
      "The Great Gatsby by F. Scott Fitzgerald (ISBN: 978-0743273565)\n",
      "To Kill a Mockingbird by Harper Lee (ISBN: 978-0061120084)\n",
      "1984 by George Orwell (ISBN: 978-0451524935)\n"
     ]
    }
   ],
   "source": [
    "class Book:\n",
    "\n",
    "    def __init__(self,title,author,ISBN):\n",
    "        self.title = title\n",
    "        self.author = author\n",
    "        self.ISBN = ISBN\n",
    "        self.avaliable=True\n",
    "\n",
    "    def __str__(self) -> str:\n",
    "        return f\"{self.title} by {self.author} (ISBN: {self.ISBN})\"\n",
    "    \n",
    "\n",
    "class Library:\n",
    "\n",
    "    def __init__(self):\n",
    "        self.books = []\n",
    "        \n",
    "    def add_books(self,book):\n",
    "        self.books.append(book)\n",
    "        print(f\"Book add in the library : {book}\")\n",
    "\n",
    "    def borow_book(self,ISBN):\n",
    "\n",
    "        for book in self.books:\n",
    "            if book.ISBN==ISBN and book.avaliable:\n",
    "                book\n",
    "                print(f\"Book is {book}\")\n",
    "                return book\n",
    "        print(\"Book not avaliable in the browising\")\n",
    "        return 0\n",
    "    \n",
    "    def display_available_books(self):\n",
    "        print(\"Available Books:\")\n",
    "        for book in self.books:\n",
    "            if book.avaliable:\n",
    "                print(book)\n",
    "    \n",
    "library = Library()\n",
    "\n",
    "book1 = Book(\"The Great Gatsby\", \"F. Scott Fitzgerald\", \"978-0743273565\")\n",
    "book2 = Book(\"To Kill a Mockingbird\", \"Harper Lee\", \"978-0061120084\")\n",
    "book3 = Book(\"1984\", \"George Orwell\", \"978-0451524935\")\n",
    "\n",
    "library.add_books(book1)\n",
    "library.add_books(book2)\n",
    "library.add_books(book3)\n",
    "\n",
    "library.display_available_books()\n",
    "\n",
    "borrowed_book = library.borow_book(\"978-0743273565\")\n",
    "\n",
    "\n",
    "library.display_available_books()\n",
    "\n",
    "library.borow_book(\"978-0743273565\")\n",
    "\n",
    "library.display_available_books()\n",
    "\n",
    "    "
   ]
  },
  {
   "cell_type": "markdown",
   "metadata": {},
   "source": [
    "Problem 5: Product Inventory Create classes representing a product and an inventory system. Implement methods to add products to the inventory, update product quantity, and display available products."
   ]
  },
  {
   "cell_type": "code",
   "execution_count": 4,
   "metadata": {},
   "outputs": [
    {
     "name": "stdout",
     "output_type": "stream",
     "text": [
      "Available Products:\n",
      "Product Id 1 name Laptop price 999.99 quantity 10\n",
      "Product Id 2 name Smartphone price 599.99 quantity 20\n",
      "Quantity for product ID 1 updated to 5.\n",
      "Available Products:\n",
      "Product Id 1 name Laptop price 999.99 quantity 5\n",
      "Product Id 2 name Smartphone price 599.99 quantity 20\n"
     ]
    }
   ],
   "source": [
    "class Product:\n",
    "\n",
    "    def __init__(self,product_id,name,price,quantity):\n",
    "        self.product_id = product_id\n",
    "        self.name = name\n",
    "        self.price = price\n",
    "        self.quantity = quantity\n",
    "\n",
    "    def __str__(self) -> str:\n",
    "        return f\"Product Id {self.product_id} name {self.name} price {self.price} quantity {self.quantity}\"\n",
    "    \n",
    "\n",
    "class Inventory:\n",
    "\n",
    "    def __init__(self):\n",
    "        self.products = {}\n",
    "\n",
    "    def add_product(self, product):\n",
    "        if product.product_id not in self.products:\n",
    "            self.products[product.product_id] = product\n",
    "        else:\n",
    "            print(f\"Product with ID {product.product_id} already exists in the inventory. Use update_quantity method to update quantity.\")\n",
    "\n",
    "    def update_product(self,product_id,new_quantity):\n",
    "\n",
    "        if product_id in self.products:\n",
    "            self.products[product_id].quantity = new_quantity\n",
    "            print(f\"Quantity for product ID {product_id} updated to {new_quantity}.\")\n",
    "        else:\n",
    "            print(f\"Product with ID {product_id} not found in the inventory.\")\n",
    "\n",
    "    \n",
    "    def display_available_products(self):\n",
    "        print(\"Available Products:\")\n",
    "        for product in self.products.values():\n",
    "            print(product)     \n",
    "\n",
    "\n",
    "\n",
    "product1 = Product(1, \"Laptop\", 999.99, 10)\n",
    "product2 = Product(2, \"Smartphone\", 599.99, 20)\n",
    "\n",
    "inventory = Inventory()\n",
    "\n",
    "inventory.add_product(product1)\n",
    "inventory.add_product(product2)\n",
    "\n",
    "inventory.display_available_products()\n",
    "\n",
    "        # Update quantity of a product\n",
    "inventory.update_product(1, 5)\n",
    "\n",
    "        # Display available products after update\n",
    "inventory.display_available_products()"
   ]
  },
  {
   "cell_type": "markdown",
   "metadata": {},
   "source": [
    "Problem 6: Shape Calculation Create a class representing a shape with attributes like length, width, and height. Implement methods to calculate the area and perimeter of the shape."
   ]
  },
  {
   "cell_type": "code",
   "execution_count": 5,
   "metadata": {},
   "outputs": [
    {
     "name": "stdout",
     "output_type": "stream",
     "text": [
      "Rectangle Area: 15\n",
      "Rectangle Perimeter: 16\n",
      "Triangle Area: 12.0\n",
      "Triangle Perimeter: 17.21110255092798\n"
     ]
    }
   ],
   "source": [
    "class shape:\n",
    "\n",
    "    def __init__(self,length=0,width=0,height=0):\n",
    "        self.length = length\n",
    "        self.width = width\n",
    "        self.height = height\n",
    "\n",
    "    def calculate_area(self):\n",
    "        raise NotImplementedError(\"Subclasses must implement this method\")\n",
    "\n",
    "    def calculate_perimeter(self):\n",
    "        raise NotImplementedError(\"Subclasses must implement this method\")\n",
    "\n",
    "class rectangle(shape):\n",
    "\n",
    "    def area_rectangle(self):\n",
    "        return self.length *self.width\n",
    "    \n",
    "    def perimeter_rectangle(self):\n",
    "        return 2 * (self.length + self.width)\n",
    "    \n",
    "class traingle(shape):\n",
    "\n",
    "    def area_traingle(self):\n",
    "        return 0.5 * self.length * self.width\n",
    "    \n",
    "    def perimeter_traingle(self):\n",
    "        return self.length + self.width + (self.length**2 + self.width**2)**0.5\n",
    "    \n",
    "\n",
    "Rectangle = rectangle(length=5, width=3)\n",
    "Triangle = traingle(length=4, width=6)\n",
    "\n",
    "print(\"Rectangle Area:\", Rectangle.area_rectangle())\n",
    "print(\"Rectangle Perimeter:\", Rectangle.perimeter_rectangle())\n",
    "\n",
    "print(\"Triangle Area:\", Triangle.area_traingle())\n",
    "print(\"Triangle Perimeter:\", Triangle.perimeter_traingle())\n",
    "\n"
   ]
  },
  {
   "cell_type": "markdown",
   "metadata": {},
   "source": [
    "Problem 7: Student Management Create a class representing a student with attributes like student ID, name, and grades. Implement methods to calculate the average grade and display student details."
   ]
  },
  {
   "cell_type": "code",
   "execution_count": 8,
   "metadata": {},
   "outputs": [
    {
     "name": "stdout",
     "output_type": "stream",
     "text": [
      "Student ID: 1\n",
      "Name: Aswini\n",
      "Grades: 85, 90, 87, 92\n",
      "Average Grade: 88\n",
      "\n",
      "\n",
      "Student ID: 2\n",
      "Name: something\n",
      "Grades: 95, 88, 99, 86\n",
      "Average Grade: 92\n",
      "Student ID: 1\n",
      "Name: Aswini\n",
      "Grades: 85, 90, 87, 92\n",
      "Average Grade: 88\n",
      "\n",
      "\n",
      "Student ID: 2\n",
      "Name: something\n",
      "Grades: 95, 88, 99, 86, 90\n",
      "Average Grade: 91\n"
     ]
    }
   ],
   "source": [
    "class student:\n",
    "\n",
    "    def __init__(self,student_id,name,grades):\n",
    "        self.student_id = student_id\n",
    "        self.name = name\n",
    "        self.grades = grades\n",
    "\n",
    "    def add_grade(self,grade):\n",
    "        self.grades.append(grade)\n",
    "\n",
    "    def calculate_average_grade(self):\n",
    "        if not self.grades:\n",
    "            return 0\n",
    "        return sum(self.grades)//len(self.grades)\n",
    "    \n",
    "    def display(self):\n",
    "        print(f\"Student ID: {self.student_id}\")\n",
    "        print(f\"Name: {self.name}\")\n",
    "        print(\"Grades:\", \", \".join(map(str, self.grades)))\n",
    "        print(f\"Average Grade: {self.calculate_average_grade()}\")\n",
    "\n",
    "\n",
    "student1 = student(student_id=\"1\", name=\"Aswini\", grades=[85, 90, 87, 92])\n",
    "student2 = student(student_id=\"2\", name=\"something\", grades=[95, 88, 99, 86])\n",
    "\n",
    "student1.display()\n",
    "print(\"\\n\")\n",
    "student2.display()\n",
    "\n",
    "student2.add_grade(90)\n",
    "\n",
    "student1.display()\n",
    "print(\"\\n\")\n",
    "student2.display()\n",
    "\n",
    "\n",
    "    \n"
   ]
  },
  {
   "cell_type": "markdown",
   "metadata": {},
   "source": [
    "Problem 8: Email Management Create a class representing an email with attributes like sender, recipient, and subject. Implement methods to send an email and display email details."
   ]
  },
  {
   "cell_type": "code",
   "execution_count": 9,
   "metadata": {},
   "outputs": [
    {
     "name": "stdout",
     "output_type": "stream",
     "text": [
      "Sender: john@example.com\n",
      "Recipient: jane@example.com\n",
      "Subject: Meeting\n",
      "Message:\n",
      "Hi Jane, let's meet tomorrow at 2 PM.\n",
      "Status: Sent\n",
      "Email sent to john@example.com to jane@example.com\n",
      "Subject ; Meeting\n",
      "Message\n",
      "Hi Jane, let's meet tomorrow at 2 PM.\n",
      "Sender: john@example.com\n",
      "Recipient: jane@example.com\n",
      "Subject: Meeting\n",
      "Message:\n",
      "Hi Jane, let's meet tomorrow at 2 PM.\n",
      "Status: Sent\n"
     ]
    }
   ],
   "source": [
    "class email:\n",
    "\n",
    "    def __init__(self,sender,recipient,subject,message):\n",
    "        self.sender = sender\n",
    "        self.recipient = recipient\n",
    "        self.subject = subject\n",
    "        self.message = message\n",
    "        self.sent = True\n",
    "\n",
    "    def send_email(self):\n",
    "        print(f\"Email sent to {self.sender} to {self.recipient}\")\n",
    "        print(f\"Subject ; {self.subject}\")\n",
    "        print(f\"Message\")\n",
    "        print(self.message)\n",
    "        self.sent=True\n",
    "\n",
    "    def display_email_details(self):\n",
    "        print(f\"Sender: {self.sender}\")\n",
    "        print(f\"Recipient: {self.recipient}\")\n",
    "        print(f\"Subject: {self.subject}\")\n",
    "        print(\"Message:\")\n",
    "        print(self.message)\n",
    "        print(\"Status: \" + (\"Sent\" if self.sent else \"Not Sent\"))\n",
    "\n",
    "    \n",
    "Email1 = email(sender=\"john@example.com\", recipient=\"jane@example.com\", subject=\"Meeting\", message=\"Hi Jane, let's meet tomorrow at 2 PM.\")\n",
    "\n",
    "Email1.display_email_details()\n",
    "\n",
    "Email1.send_email()\n",
    "\n",
    "Email1.display_email_details()"
   ]
  },
  {
   "cell_type": "markdown",
   "metadata": {},
   "source": [
    "Problem 9: Social Media Profile Create a class representing a social media profile with attributes like username and posts. Implement methods to add posts, display posts, and search for posts by keyword."
   ]
  },
  {
   "cell_type": "code",
   "execution_count": 10,
   "metadata": {},
   "outputs": [
    {
     "name": "stdout",
     "output_type": "stream",
     "text": [
      "Post by user1\n",
      "1 Enjoying a sunny day at the beach!\n",
      "2 Just finished reading a great book.\n",
      "\n",
      "Post by user2\n",
      "1 Excited about the new project at work.\n",
      "2 Traveling to a new city this weekend.\n",
      "\n",
      "Post user1 containing book :\n",
      "1 Just finished reading a great book.\n",
      "\n",
      "Post user2 containing travel :\n",
      "1 Traveling to a new city this weekend.\n",
      "\n"
     ]
    }
   ],
   "source": [
    "class SocialMediaProfile:\n",
    "\n",
    "    def __init__(self,username):\n",
    "        self.username = username\n",
    "        self.posts = []\n",
    "\n",
    "    def add_post(self,content):\n",
    "        self.posts.append(content)\n",
    "\n",
    "    def display_posts(self):\n",
    "        print(f\"Post by {self.username}\")\n",
    "        for index, post in enumerate(self.posts, start=1):\n",
    "            print(f\"{index} {post}\")\n",
    "        print()\n",
    "\n",
    "    def search_posts(self,keyword):\n",
    "        ## simple search in the post\n",
    "        matching_post = [post for post in self.posts if keyword.lower() in post.lower()]\n",
    "        if matching_post:\n",
    "            print(f\"Post {self.username} containing {keyword} :\")\n",
    "            for index , post in enumerate(matching_post , start = 1):\n",
    "                print(f\"{index} {post}\")\n",
    "        else:\n",
    "            print(f\"Number of the post {self.username} containing  {keyword} found\")\n",
    "        print()\n",
    "        \n",
    "\n",
    "profile1 = SocialMediaProfile(username=\"user1\")\n",
    "profile2 = SocialMediaProfile(username=\"user2\")\n",
    "\n",
    "profile1.add_post(\"Enjoying a sunny day at the beach!\")\n",
    "profile1.add_post(\"Just finished reading a great book.\")\n",
    "\n",
    "profile2.add_post(\"Excited about the new project at work.\")\n",
    "profile2.add_post(\"Traveling to a new city this weekend.\")\n",
    "\n",
    "\n",
    "profile1.display_posts()\n",
    "profile2.display_posts()\n",
    "\n",
    "\n",
    "profile1.search_posts(\"book\")\n",
    "profile2.search_posts(\"travel\")"
   ]
  },
  {
   "cell_type": "markdown",
   "metadata": {},
   "source": [
    "Problem 10: ToDo List Create a class representing a ToDo list with attributes like tasks and due dates. Implement methods to add tasks, mark tasks as completed, and display pending tasks."
   ]
  },
  {
   "cell_type": "code",
   "execution_count": 12,
   "metadata": {},
   "outputs": [
    {
     "name": "stdout",
     "output_type": "stream",
     "text": [
      "Pending Tasks : \n",
      "- EDA (Due Date : 2023-11-11)\n",
      "- Data Transformation (Due Date : 2023-11-13)\n",
      "- Model Training (Due Date : 2023-11-15)\n",
      "Task EDA is completed\n",
      "Pending Tasks : \n",
      "- Data Transformation (Due Date : 2023-11-13)\n",
      "- Model Training (Due Date : 2023-11-15)\n"
     ]
    }
   ],
   "source": [
    "class ToDoList:\n",
    "\n",
    "    def __init__(self):\n",
    "        self.tasks = {}\n",
    "\n",
    "    def add_task(self,task,due_date):\n",
    "        self.tasks[task]=due_date\n",
    "\n",
    "    def mark_completed(self,task):\n",
    "        if task in self.tasks:\n",
    "            del self.tasks[task]\n",
    "            print(f\"Task {task} is completed\")\n",
    "        else:\n",
    "            print(f\"Task {task} not completed\")\n",
    "\n",
    "    def display_pending_task(self):\n",
    "        if self.tasks:\n",
    "            print(\"Pending Tasks : \")\n",
    "            for task,due_date in self.tasks.items():\n",
    "                print(f\"- {task} (Due Date : {due_date})\")\n",
    "        else:\n",
    "            print(\"No Pending task\")\n",
    "\n",
    "    \n",
    "todolist = ToDoList()\n",
    "\n",
    "todolist.add_task(\"EDA\" , \"2023-11-11\")\n",
    "todolist.add_task(\"Data Transformation\", \"2023-11-13\")\n",
    "todolist.add_task(\"Model Training\" ,\"2023-11-15\")\n",
    "\n",
    "todolist.display_pending_task()\n",
    "\n",
    "todolist.mark_completed(\"EDA\")\n",
    "\n",
    "todolist.display_pending_task()"
   ]
  },
  {
   "cell_type": "code",
   "execution_count": null,
   "metadata": {},
   "outputs": [],
   "source": []
  }
 ],
 "metadata": {
  "kernelspec": {
   "display_name": "Python 3 (ipykernel)",
   "language": "python",
   "name": "python3"
  },
  "language_info": {
   "codemirror_mode": {
    "name": "ipython",
    "version": 3
   },
   "file_extension": ".py",
   "mimetype": "text/x-python",
   "name": "python",
   "nbconvert_exporter": "python",
   "pygments_lexer": "ipython3",
   "version": "3.9.13"
  }
 },
 "nbformat": 4,
 "nbformat_minor": 2
}
